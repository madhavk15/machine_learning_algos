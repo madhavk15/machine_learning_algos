{
  "nbformat": 4,
  "nbformat_minor": 0,
  "metadata": {
    "colab": {
      "provenance": []
    },
    "kernelspec": {
      "name": "python3",
      "display_name": "Python 3"
    },
    "language_info": {
      "name": "python"
    }
  },
  "cells": [
    {
      "cell_type": "code",
      "execution_count": 218,
      "metadata": {
        "id": "YSlE_mjyhvZK"
      },
      "outputs": [],
      "source": [
        "import numpy as np\n",
        "import pandas as pd\n",
        "import matplotlib.pyplot as plt"
      ]
    },
    {
      "cell_type": "code",
      "source": [
        "data=pd.read_csv('/content/drive/MyDrive/Training dataset/polynomial_train_1.csv')\n",
        "A=data.iloc[:,0].values\n",
        "B=data.iloc[:,1].values\n",
        "C=data.iloc[:,2].values\n",
        "Y=data.iloc[:,3].values\n",
        "display(data)"
      ],
      "metadata": {
        "id": "uMxQWiTRh42o",
        "colab": {
          "base_uri": "https://localhost:8080/",
          "height": 423
        },
        "outputId": "71da92d8-ee77-4c34-fbeb-79213673142a"
      },
      "execution_count": 219,
      "outputs": [
        {
          "output_type": "display_data",
          "data": {
            "text/plain": [
              "                 A            B           C         label\n",
              "0     -1113.924581   952.105404 -276.045881 -1.294289e+03\n",
              "1     -2229.480228  1111.488568  -93.454107 -2.714687e+04\n",
              "2      2717.257713    53.431237 -179.228591  6.474300e+04\n",
              "3     -1638.783965  -632.919447 -106.170237 -7.349871e+03\n",
              "4      5173.934338  -721.895577  -75.074840  1.651328e+06\n",
              "...            ...          ...         ...           ...\n",
              "49995  -401.109554   205.180270 -123.837422 -6.275985e+00\n",
              "49996   832.536891  -723.312711 -128.736597  2.390843e+02\n",
              "49997  -533.446993  1171.457335 -130.840925 -2.857080e+02\n",
              "49998  1810.499103  -424.111696 -128.334986  8.161595e+03\n",
              "49999  -861.910217   257.295992 -176.122871 -2.551671e+02\n",
              "\n",
              "[50000 rows x 4 columns]"
            ],
            "text/html": [
              "\n",
              "  <div id=\"df-e8109ab4-917f-420d-812c-d224ed1eda81\">\n",
              "    <div class=\"colab-df-container\">\n",
              "      <div>\n",
              "<style scoped>\n",
              "    .dataframe tbody tr th:only-of-type {\n",
              "        vertical-align: middle;\n",
              "    }\n",
              "\n",
              "    .dataframe tbody tr th {\n",
              "        vertical-align: top;\n",
              "    }\n",
              "\n",
              "    .dataframe thead th {\n",
              "        text-align: right;\n",
              "    }\n",
              "</style>\n",
              "<table border=\"1\" class=\"dataframe\">\n",
              "  <thead>\n",
              "    <tr style=\"text-align: right;\">\n",
              "      <th></th>\n",
              "      <th>A</th>\n",
              "      <th>B</th>\n",
              "      <th>C</th>\n",
              "      <th>label</th>\n",
              "    </tr>\n",
              "  </thead>\n",
              "  <tbody>\n",
              "    <tr>\n",
              "      <th>0</th>\n",
              "      <td>-1113.924581</td>\n",
              "      <td>952.105404</td>\n",
              "      <td>-276.045881</td>\n",
              "      <td>-1.294289e+03</td>\n",
              "    </tr>\n",
              "    <tr>\n",
              "      <th>1</th>\n",
              "      <td>-2229.480228</td>\n",
              "      <td>1111.488568</td>\n",
              "      <td>-93.454107</td>\n",
              "      <td>-2.714687e+04</td>\n",
              "    </tr>\n",
              "    <tr>\n",
              "      <th>2</th>\n",
              "      <td>2717.257713</td>\n",
              "      <td>53.431237</td>\n",
              "      <td>-179.228591</td>\n",
              "      <td>6.474300e+04</td>\n",
              "    </tr>\n",
              "    <tr>\n",
              "      <th>3</th>\n",
              "      <td>-1638.783965</td>\n",
              "      <td>-632.919447</td>\n",
              "      <td>-106.170237</td>\n",
              "      <td>-7.349871e+03</td>\n",
              "    </tr>\n",
              "    <tr>\n",
              "      <th>4</th>\n",
              "      <td>5173.934338</td>\n",
              "      <td>-721.895577</td>\n",
              "      <td>-75.074840</td>\n",
              "      <td>1.651328e+06</td>\n",
              "    </tr>\n",
              "    <tr>\n",
              "      <th>...</th>\n",
              "      <td>...</td>\n",
              "      <td>...</td>\n",
              "      <td>...</td>\n",
              "      <td>...</td>\n",
              "    </tr>\n",
              "    <tr>\n",
              "      <th>49995</th>\n",
              "      <td>-401.109554</td>\n",
              "      <td>205.180270</td>\n",
              "      <td>-123.837422</td>\n",
              "      <td>-6.275985e+00</td>\n",
              "    </tr>\n",
              "    <tr>\n",
              "      <th>49996</th>\n",
              "      <td>832.536891</td>\n",
              "      <td>-723.312711</td>\n",
              "      <td>-128.736597</td>\n",
              "      <td>2.390843e+02</td>\n",
              "    </tr>\n",
              "    <tr>\n",
              "      <th>49997</th>\n",
              "      <td>-533.446993</td>\n",
              "      <td>1171.457335</td>\n",
              "      <td>-130.840925</td>\n",
              "      <td>-2.857080e+02</td>\n",
              "    </tr>\n",
              "    <tr>\n",
              "      <th>49998</th>\n",
              "      <td>1810.499103</td>\n",
              "      <td>-424.111696</td>\n",
              "      <td>-128.334986</td>\n",
              "      <td>8.161595e+03</td>\n",
              "    </tr>\n",
              "    <tr>\n",
              "      <th>49999</th>\n",
              "      <td>-861.910217</td>\n",
              "      <td>257.295992</td>\n",
              "      <td>-176.122871</td>\n",
              "      <td>-2.551671e+02</td>\n",
              "    </tr>\n",
              "  </tbody>\n",
              "</table>\n",
              "<p>50000 rows × 4 columns</p>\n",
              "</div>\n",
              "      <button class=\"colab-df-convert\" onclick=\"convertToInteractive('df-e8109ab4-917f-420d-812c-d224ed1eda81')\"\n",
              "              title=\"Convert this dataframe to an interactive table.\"\n",
              "              style=\"display:none;\">\n",
              "        \n",
              "  <svg xmlns=\"http://www.w3.org/2000/svg\" height=\"24px\"viewBox=\"0 0 24 24\"\n",
              "       width=\"24px\">\n",
              "    <path d=\"M0 0h24v24H0V0z\" fill=\"none\"/>\n",
              "    <path d=\"M18.56 5.44l.94 2.06.94-2.06 2.06-.94-2.06-.94-.94-2.06-.94 2.06-2.06.94zm-11 1L8.5 8.5l.94-2.06 2.06-.94-2.06-.94L8.5 2.5l-.94 2.06-2.06.94zm10 10l.94 2.06.94-2.06 2.06-.94-2.06-.94-.94-2.06-.94 2.06-2.06.94z\"/><path d=\"M17.41 7.96l-1.37-1.37c-.4-.4-.92-.59-1.43-.59-.52 0-1.04.2-1.43.59L10.3 9.45l-7.72 7.72c-.78.78-.78 2.05 0 2.83L4 21.41c.39.39.9.59 1.41.59.51 0 1.02-.2 1.41-.59l7.78-7.78 2.81-2.81c.8-.78.8-2.07 0-2.86zM5.41 20L4 18.59l7.72-7.72 1.47 1.35L5.41 20z\"/>\n",
              "  </svg>\n",
              "      </button>\n",
              "      \n",
              "  <style>\n",
              "    .colab-df-container {\n",
              "      display:flex;\n",
              "      flex-wrap:wrap;\n",
              "      gap: 12px;\n",
              "    }\n",
              "\n",
              "    .colab-df-convert {\n",
              "      background-color: #E8F0FE;\n",
              "      border: none;\n",
              "      border-radius: 50%;\n",
              "      cursor: pointer;\n",
              "      display: none;\n",
              "      fill: #1967D2;\n",
              "      height: 32px;\n",
              "      padding: 0 0 0 0;\n",
              "      width: 32px;\n",
              "    }\n",
              "\n",
              "    .colab-df-convert:hover {\n",
              "      background-color: #E2EBFA;\n",
              "      box-shadow: 0px 1px 2px rgba(60, 64, 67, 0.3), 0px 1px 3px 1px rgba(60, 64, 67, 0.15);\n",
              "      fill: #174EA6;\n",
              "    }\n",
              "\n",
              "    [theme=dark] .colab-df-convert {\n",
              "      background-color: #3B4455;\n",
              "      fill: #D2E3FC;\n",
              "    }\n",
              "\n",
              "    [theme=dark] .colab-df-convert:hover {\n",
              "      background-color: #434B5C;\n",
              "      box-shadow: 0px 1px 3px 1px rgba(0, 0, 0, 0.15);\n",
              "      filter: drop-shadow(0px 1px 2px rgba(0, 0, 0, 0.3));\n",
              "      fill: #FFFFFF;\n",
              "    }\n",
              "  </style>\n",
              "\n",
              "      <script>\n",
              "        const buttonEl =\n",
              "          document.querySelector('#df-e8109ab4-917f-420d-812c-d224ed1eda81 button.colab-df-convert');\n",
              "        buttonEl.style.display =\n",
              "          google.colab.kernel.accessAllowed ? 'block' : 'none';\n",
              "\n",
              "        async function convertToInteractive(key) {\n",
              "          const element = document.querySelector('#df-e8109ab4-917f-420d-812c-d224ed1eda81');\n",
              "          const dataTable =\n",
              "            await google.colab.kernel.invokeFunction('convertToInteractive',\n",
              "                                                     [key], {});\n",
              "          if (!dataTable) return;\n",
              "\n",
              "          const docLinkHtml = 'Like what you see? Visit the ' +\n",
              "            '<a target=\"_blank\" href=https://colab.research.google.com/notebooks/data_table.ipynb>data table notebook</a>'\n",
              "            + ' to learn more about interactive tables.';\n",
              "          element.innerHTML = '';\n",
              "          dataTable['output_type'] = 'display_data';\n",
              "          await google.colab.output.renderOutput(dataTable, element);\n",
              "          const docLink = document.createElement('div');\n",
              "          docLink.innerHTML = docLinkHtml;\n",
              "          element.appendChild(docLink);\n",
              "        }\n",
              "      </script>\n",
              "    </div>\n",
              "  </div>\n",
              "  "
            ]
          },
          "metadata": {}
        }
      ]
    },
    {
      "cell_type": "code",
      "source": [
        "def coeff(n):\n",
        "  s=0\n",
        "  for i in range (n+1):\n",
        "    for j in range(n+1-i):\n",
        "      if (n-i-j>=0):\n",
        "        s=s+A**i*B**j*C**(n-i-j)\n",
        "  return s"
      ],
      "metadata": {
        "id": "mNgFPFZLh8T_"
      },
      "execution_count": 220,
      "outputs": []
    },
    {
      "cell_type": "code",
      "source": [
        "n=int(input(\"enter the value of n: \"))"
      ],
      "metadata": {
        "colab": {
          "base_uri": "https://localhost:8080/"
        },
        "id": "aMJOF86ilN2F",
        "outputId": "d52df8ca-a17d-4813-d390-27e8332487b5"
      },
      "execution_count": 221,
      "outputs": [
        {
          "name": "stdout",
          "output_type": "stream",
          "text": [
            "enter the value of n: 5\n"
          ]
        }
      ]
    },
    {
      "cell_type": "code",
      "source": [
        "val=np.zeros((50000,n))\n",
        "for i in range(0,n):\n",
        "  val[:,i]=coeff(i+1)\n",
        "#now val is the training data set\n",
        "\n",
        "#splitting the training data set\n",
        "X=val[0:50000,:]\n",
        "X_t=val[48000:50000,:]\n",
        "y=Y[0:50000]\n",
        "y_t=Y[48000:50000]"
      ],
      "metadata": {
        "id": "fPatqSOHmJ0B"
      },
      "execution_count": 222,
      "outputs": []
    },
    {
      "cell_type": "code",
      "source": [
        "def cost(X, y, w, b):   \n",
        "    p,q=np.shape(X_t)\n",
        "    cost = 0.0\n",
        "    for i in range(p):                                \n",
        "        f_wb_i = np.dot(X[i], w) + b            \n",
        "        cost = cost + (f_wb_i - y[i])**2       \n",
        "    cost = cost / (2 * p)                          \n",
        "    return cost"
      ],
      "metadata": {
        "id": "AqIfuZP3qRYx"
      },
      "execution_count": 223,
      "outputs": []
    },
    {
      "cell_type": "code",
      "source": [
        "def gr(X,y,w,b):\n",
        "  p,q=np.shape(X)\n",
        "  dj_dw=np.zeros((q,))\n",
        "  dj_db=0\n",
        "  k=np.zeros(p)\n",
        "\n",
        "  k=(np.matmul(X,w)-y)+b\n",
        "  dj_db=np.sum(k)/p\n",
        "  for j in range(n):\n",
        "    dj_dw[j]=np.dot(X[:,j],k)\n",
        "  dj_dw=dj_dw/p\n",
        "  return dj_db,dj_dw"
      ],
      "metadata": {
        "id": "2A0yTAZ6qmuE"
      },
      "execution_count": 224,
      "outputs": []
    },
    {
      "cell_type": "code",
      "source": [
        "def zscore(X):\n",
        "  mu=np.mean(X, axis=0)\n",
        "  sigma=np.std(X,axis=0)\n",
        "  X_1=(X-mu)/sigma\n",
        "  return(X_1,mu,sigma)\n",
        "\n",
        "X,mu,sigma=zscore(X)"
      ],
      "metadata": {
        "id": "nejcjfMDrZa_"
      },
      "execution_count": 225,
      "outputs": []
    },
    {
      "cell_type": "code",
      "source": [
        "def gradient_descent_cal(X,y,w,b,cost,gr,alpha,num):\n",
        "  j_his=[]\n",
        "\n",
        "  for i in range(num):\n",
        "    dj_db,dj_dw = gr(X,y,w,b)\n",
        "    w = w - alpha*dj_dw     \n",
        "    b = b - alpha*dj_db  \n",
        "    if i<=7001:\n",
        "      j_his.append(cost(X,y,w,b))\n",
        "      \n",
        "    if (i%100) == 0:\n",
        "      print(\"iteration: \",i)  \n",
        "      print(\"cost :\",j_his[i])\n",
        "  return w,b,j_his  "
      ],
      "metadata": {
        "id": "mU433ooWrnAM"
      },
      "execution_count": 226,
      "outputs": []
    },
    {
      "cell_type": "code",
      "source": [
        "w_in=np.zeros(n)\n",
        "b_in=0\n",
        "num=251\n",
        "alpha=0.1\n",
        "j=[]\n",
        "w,b,j=gradient_descent_cal(X,y,w_in,b_in,cost,gr,alpha,num)\n",
        "print(w)\n",
        "print(b) \n",
        "#cost vs iteration graph plot\n",
        "plt.grid(True)\n",
        "plt.plot(np.arange(num),j,c='red')\n",
        "plt.show()"
      ],
      "metadata": {
        "id": "9f1iMIdkr6ka",
        "colab": {
          "base_uri": "https://localhost:8080/",
          "height": 608
        },
        "outputId": "6835f7c7-d1ec-4c27-9d2f-8d9195f65a57"
      },
      "execution_count": 227,
      "outputs": [
        {
          "output_type": "stream",
          "name": "stdout",
          "text": [
            "iteration:  0\n",
            "cost : 1297370691990.717\n",
            "iteration:  100\n",
            "cost : 24581848063.52503\n",
            "iteration:  200\n",
            "cost : 17947805040.630817\n",
            "[-2.02495283e+05 -5.34480032e+02  4.49137969e+05 -6.85108530e+04\n",
            "  2.26668464e+06]\n",
            "4760.874137858231\n"
          ]
        },
        {
          "output_type": "display_data",
          "data": {
            "text/plain": [
              "<Figure size 640x480 with 1 Axes>"
            ],
            "image/png": "[encoded data removed]"
          },
          "metadata": {}
        }
      ]
    },
    {
      "cell_type": "code",
      "source": [
        "#accuracy\n",
        "#feature scaling the test data set\n",
        "X_t=(X_t-mu)/sigma\n",
        "\n",
        "y1=(np.matmul(X_t,w))+b\n",
        "mean=np.sum(y_t)/5000\n",
        "e1=np.sum(np.square(y1-y_t))\n",
        "e2=np.sum(np.square(y_t-mean))\n",
        "acc=1-(e1/e2)\n",
        "print(\"the r2 score for the following value of n: \",n,\" is \",acc)"
      ],
      "metadata": {
        "colab": {
          "base_uri": "https://localhost:8080/"
        },
        "id": "XLwKeEvjvvxF",
        "outputId": "a963a62f-de1e-4583-d8b3-f97e661cd2e9"
      },
      "execution_count": 228,
      "outputs": [
        {
          "output_type": "stream",
          "name": "stdout",
          "text": [
            "the r2 score for the following value of n:  5  is  0.9950459155526137\n"
          ]
        }
      ]
    }
  ]
}