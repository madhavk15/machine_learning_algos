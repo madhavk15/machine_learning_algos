{
  "cells": [
    {
      "cell_type": "code",
      "execution_count": null,
      "metadata": {
        "id": "-rhAiyp_G3Hh"
      },
      "outputs": [],
      "source": [
        "import numpy as np\n",
        "import pandas as pd\n",
        "import matplotlib.pyplot as plt"
      ]
    },
    {
      "cell_type": "code",
      "execution_count": null,
      "metadata": {
        "id": "CKSs6vZcG8P4"
      },
      "outputs": [],
      "source": [
        "data=pd.read_csv('/content/drive/MyDrive/Training dataset/classification_train.csv')\n",
        "X=data.iloc[0:24000,1:785].values\n",
        "X_t=data.iloc[24000:30000,1:785].values\n",
        "p=data.iloc[:,0].values\n",
        "w=np.zeros((784,10))\n",
        "b=np.zeros(10)"
      ]
    },
    {
      "cell_type": "code",
      "execution_count": null,
      "metadata": {
        "id": "Tw1cnmjzHBlg"
      },
      "outputs": [],
      "source": [
        "#to make an array of Y values in terms of 0 and 1 only\n",
        "\n",
        "Y=np.zeros((30000,10))\n",
        "for j in range(10):\n",
        "  for i in range(30000):\n",
        "    if (p[i]==j):\n",
        "      Y[i,j]=1\n",
        "#now, Y is the target values for logistic regression\n",
        "\n",
        "#splitting the target values\n",
        "y=Y[0:24000,:]\n",
        "y_t=Y[24000:30000,:]"
      ]
    },
    {
      "cell_type": "code",
      "execution_count": null,
      "metadata": {
        "id": "FN9TCCgnXK1c"
      },
      "outputs": [],
      "source": [
        "def zscore(X):\n",
        "  mu=np.mean(X, axis=0)\n",
        "  sigma=np.std(X,axis=0)\n",
        "  X_1=(X-mu)/sigma\n",
        "  return(X_1,mu,sigma)\n",
        "\n",
        "X=X/255"
      ]
    },
    {
      "cell_type": "code",
      "execution_count": null,
      "metadata": {
        "id": "w2huv840Ip-5"
      },
      "outputs": [],
      "source": [
        "def sigmoid(x):\n",
        "    return 1/(1 + np.exp(-x))"
      ]
    },
    {
      "cell_type": "code",
      "execution_count": null,
      "metadata": {
        "id": "ZX5VPbU3epqj"
      },
      "outputs": [],
      "source": [
        "f=np.matmul(X,w)  #(24000,10)\n",
        "def model(X, Y, j, learning_rate, iterations):\n",
        "    \n",
        "    m = 24000  #number of rows(24000)\n",
        "    n = 784  #number of columns(784)\n",
        "    #Z=np.zeros((24000,1))\n",
        "    #A=np.zeros((24000,1))\n",
        "    cost_list = []\n",
        "    for i in range(iterations):\n",
        "        \n",
        "          Z = f[:,j] + b[j]\n",
        "          A = sigmoid(Z)\n",
        "        \n",
        "          # cost function\n",
        "          cost = -(1/m)*np.sum( Y[:,j]*np.log(A) + (1-Y[:,j])*np.log(1-A))\n",
        "        \n",
        "          # Gradient Descent\n",
        "          dw = (1/m)*np.matmul((A-Y[:,j]).T, X)\n",
        "          db = (1/m)*np.sum(A - Y[:,j])\n",
        "        \n",
        "          w[:,j] = w[:,j] - learning_rate*dw.T\n",
        "          b[j] = b[j] - learning_rate*db\n",
        "        \n",
        "          # Keeping track of our cost function value\n",
        "          cost_list.append(cost)\n",
        "        \n",
        "          if(i%200 == 0):\n",
        "            print(\"cost after \", i, \"iteration is : \", cost)\n",
        "        \n",
        "    return w[:,j], b[j], cost_list"
      ]
    },
    {
      "cell_type": "code",
      "execution_count": null,
      "metadata": {
        "id": "SyPMOvdeexiH",
        "colab": {
          "base_uri": "https://localhost:8080/"
        },
        "outputId": "33dfc1b1-7079-45e6-9778-e7d5f9e33772"
      },
      "outputs": [
        {
          "output_type": "stream",
          "name": "stdout",
          "text": [
            "**************** for  1  label ****************\n",
            "cost after  0 iteration is :  0.6931471805599452\n",
            "cost after  200 iteration is :  0.3405634907207739\n",
            "cost after  400 iteration is :  0.32646346611935\n",
            "cost after  600 iteration is :  0.3248925744326519\n",
            "**************** for  2  label ****************\n",
            "cost after  0 iteration is :  0.6931471805599452\n",
            "cost after  200 iteration is :  0.33942144605799573\n",
            "cost after  400 iteration is :  0.32520885211112505\n",
            "cost after  600 iteration is :  0.323614279864094\n",
            "**************** for  3  label ****************\n",
            "cost after  0 iteration is :  0.6931471805599452\n",
            "cost after  200 iteration is :  0.33982959406920654\n",
            "cost after  400 iteration is :  0.32565730476705673\n",
            "cost after  600 iteration is :  0.32407123032376384\n",
            "**************** for  4  label ****************\n",
            "cost after  0 iteration is :  0.6931471805599452\n",
            "cost after  200 iteration is :  0.3411336155249196\n",
            "cost after  400 iteration is :  0.32708954560307774\n",
            "cost after  600 iteration is :  0.32553036274559144\n",
            "**************** for  5  label ****************\n",
            "cost after  0 iteration is :  0.6931471805599452\n",
            "cost after  200 iteration is :  0.34105220573075534\n",
            "cost after  400 iteration is :  0.3270001557043254\n",
            "cost after  600 iteration is :  0.3254393054856478\n",
            "**************** for  6  label ****************\n",
            "cost after  0 iteration is :  0.6931471805599452\n",
            "cost after  200 iteration is :  0.3424345141631985\n",
            "cost after  400 iteration is :  0.3285175199868148\n",
            "cost after  600 iteration is :  0.32698477523479313\n",
            "**************** for  7  label ****************\n",
            "cost after  0 iteration is :  0.6931471805599452\n",
            "cost after  200 iteration is :  0.33901299236626936\n",
            "cost after  400 iteration is :  0.3247599808291247\n",
            "cost after  600 iteration is :  0.3231568655289932\n",
            "**************** for  8  label ****************\n",
            "cost after  0 iteration is :  0.6931471805599452\n",
            "cost after  200 iteration is :  0.3404004880675174\n",
            "cost after  400 iteration is :  0.3262844360940159\n",
            "cost after  600 iteration is :  0.32471018299760057\n",
            "**************** for  9  label ****************\n",
            "cost after  0 iteration is :  0.6931471805599452\n",
            "cost after  200 iteration is :  0.34235329938135567\n",
            "cost after  400 iteration is :  0.32842839629060355\n",
            "cost after  600 iteration is :  0.32689401230200316\n",
            "**************** for  10  label ****************\n",
            "cost after  0 iteration is :  0.6931471805599452\n",
            "cost after  200 iteration is :  0.3434891987441874\n",
            "cost after  400 iteration is :  0.3296746182664025\n",
            "cost after  600 iteration is :  0.328163025675398\n"
          ]
        }
      ],
      "source": [
        "w_f=np.zeros((784,10))\n",
        "b_f=np.zeros(10)\n",
        "iterations = 601\n",
        "learning_rate = 0.05\n",
        "\n",
        "for i in range(10):\n",
        "  print(\"**************** for \",i+1,\" label ****************\")\n",
        "  w_f[:,i], b_f[i], cost_list = model(X, y, i, learning_rate = learning_rate, iterations = iterations)"
      ]
    },
    {
      "cell_type": "code",
      "execution_count": null,
      "metadata": {
        "id": "7iOT5xgSjRdy"
      },
      "outputs": [],
      "source": [
        "X_t=(X_t)/255\n",
        "f_t=np.matmul(X_t,w_f) \n",
        "acc=np.zeros(10)\n",
        "def accuracy(X, k, W, B, j):\n",
        "    z = f_t[:,j] + b_f[j]\n",
        "    a = sigmoid(z)   #6000\n",
        "    a = a > 0.5\n",
        "    \n",
        "    a = np.array(a, dtype = 'int64')\n",
        "    \n",
        "    acc[j] = (1 - np.sum(np.absolute(a - k[:,j]))/6000)*100\n",
        "\n",
        "    return acc[j]"
      ]
    },
    {
      "cell_type": "code",
      "execution_count": null,
      "metadata": {
        "id": "aH6UQUTukXiT",
        "colab": {
          "base_uri": "https://localhost:8080/"
        },
        "outputId": "958e2b3c-4eb4-4f92-8a83-708bae8dd75e"
      },
      "outputs": [
        {
          "output_type": "stream",
          "name": "stdout",
          "text": [
            "the accuracy for 1  label is  89.91666666666667\n",
            "the accuracy for 2  label is  89.68333333333334\n",
            "the accuracy for 3  label is  89.76666666666667\n",
            "the accuracy for 4  label is  90.03333333333333\n",
            "the accuracy for 5  label is  90.01666666666667\n",
            "the accuracy for 6  label is  90.3\n",
            "the accuracy for 7  label is  89.60000000000001\n",
            "the accuracy for 8  label is  89.88333333333334\n",
            "the accuracy for 9  label is  90.28333333333333\n",
            "the accuracy for 10  label is  90.18333333333334\n",
            "======================================================================\n",
            "average accuracy is:  89.96666666666667\n"
          ]
        },
        {
          "output_type": "stream",
          "name": "stderr",
          "text": [
            "<ipython-input-5-4fd9003ecf14>:2: RuntimeWarning: overflow encountered in exp\n",
            "  return 1/(1 + np.exp(-x))\n"
          ]
        }
      ],
      "source": [
        "for i in range(10):\n",
        "  acc[i]=accuracy(X_t,y_t,w_f,b_f,i)\n",
        "  print(\"the accuracy for\", i+1,\" label is \", acc[i])\n",
        "print(\"=\"*70)\n",
        "print(\"average accuracy is: \",np.sum(acc)/10)"
      ]
    }
  ],
  "metadata": {
    "colab": {
      "provenance": []
    },
    "kernelspec": {
      "display_name": "Python 3",
      "name": "python3"
    },
    "language_info": {
      "name": "python"
    }
  },
  "nbformat": 4,
  "nbformat_minor": 0
}