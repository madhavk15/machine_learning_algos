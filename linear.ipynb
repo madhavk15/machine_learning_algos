{
  "nbformat": 4,
  "nbformat_minor": 0,
  "metadata": {
    "colab": {
      "provenance": []
    },
    "kernelspec": {
      "name": "python3",
      "display_name": "Python 3"
    },
    "language_info": {
      "name": "python"
    }
  },
  "cells": [
    {
      "cell_type": "code",
      "execution_count": 59,
      "metadata": {
        "id": "_f3ms158EchF"
      },
      "outputs": [],
      "source": [
        "import numpy as np\n",
        "import matplotlib.pyplot as plt\n",
        "import pandas as pd"
      ]
    },
    {
      "cell_type": "markdown",
      "source": [
        "Linear Regression is a major application of Machine Learning. In this algorithm, the machine predicts the output of a certain input which is a result of machines training using a training data set. Linear Regression comes under Supervised Machine Learning. In this file, I have written the code for multivariable linear regression where there are more than one features and bias"
      ],
      "metadata": {
        "id": "hr7xqYZ-Elg_"
      }
    },
    {
      "cell_type": "code",
      "source": [
        "data=pd.read_csv('/content/drive/MyDrive/Training dataset/linear_train (1).csv')\n",
        "X=data.iloc[:,0:20].values\n",
        "y=data.iloc[:,20].values\n",
        "X_t=data.iloc[45000:50000,0:20].values\n",
        "y_t=data.iloc[45000:50000,20].values\n",
        "w=np.zeros(20)\n",
        "b=0\n",
        "print(np.shape(X))\n",
        "print(np.shape(y))"
      ],
      "metadata": {
        "id": "he-LZ967EmK_",
        "colab": {
          "base_uri": "https://localhost:8080/"
        },
        "outputId": "492c4798-a046-4387-fd6f-66f48e92b1c8"
      },
      "execution_count": 60,
      "outputs": [
        {
          "output_type": "stream",
          "name": "stdout",
          "text": [
            "(50000, 20)\n",
            "(50000,)\n"
          ]
        }
      ]
    },
    {
      "cell_type": "code",
      "source": [
        "def compute_cost(X, y, w, b):   \n",
        "  m,n = np.shape(X)\n",
        "  cost=np.sum(np.power(((np.matmul(X,w)-y)+b),2))\n",
        "  cost=cost/(2*m)                          \n",
        "  return cost"
      ],
      "metadata": {
        "id": "S2Gla5yrG90a"
      },
      "execution_count": 61,
      "outputs": []
    },
    {
      "cell_type": "code",
      "source": [
        "def gr(X,y,w,b):\n",
        "  m,n=np.shape(X)\n",
        "  dj_dw=np.zeros((n,))\n",
        "  dj_db=0\n",
        "  k=np.zeros(m)\n",
        "\n",
        "  k=(np.matmul(X,w)-y)+b\n",
        "  dj_db=np.sum(k)/m\n",
        "  for j in range(n):\n",
        "    dj_dw[j]=np.dot(X[:,j],k)\n",
        "  dj_dw=dj_dw/m\n",
        "  return dj_db,dj_dw"
      ],
      "metadata": {
        "id": "R656Ll3szKYY"
      },
      "execution_count": 62,
      "outputs": []
    },
    {
      "cell_type": "code",
      "source": [
        "def zscore(X):\n",
        "  mu=np.mean(X, axis=0)\n",
        "  sigma=np.std(X,axis=0)\n",
        "  X_1=(X-mu)/sigma\n",
        "  return X_1,mu,sigma\n",
        "X,mu,sigma=zscore(X)"
      ],
      "metadata": {
        "id": "bFedpnibHlAg"
      },
      "execution_count": 63,
      "outputs": []
    },
    {
      "cell_type": "code",
      "source": [
        "def gradient_descent_cal(X,y,w,b,compute_cost,gradient,alpha,num):\n",
        "  j_his=[]\n",
        "  for i in range(num):\n",
        "    dj_db,dj_dw = gr(X,y,w,b)\n",
        "    w = w - alpha*dj_dw     \n",
        "    b = b - alpha*dj_db  \n",
        "    if i<=1001:\n",
        "      j_his.append(compute_cost(X,y,w,b)) \n",
        "    if (i%50) == 0:\n",
        "      print(\"iteration: \",i)  \n",
        "      print(\"cost :\",j_his[i])\n",
        "  return w,b,j_his  "
      ],
      "metadata": {
        "id": "UNIM341cHmo2"
      },
      "execution_count": 64,
      "outputs": []
    },
    {
      "cell_type": "code",
      "source": [
        "num=251\n",
        "alpha= 0.1\n",
        "j=[]\n",
        "w,b,j=gradient_descent_cal(X,y,w,b,compute_cost,gr,alpha,num)\n",
        "print(w)\n",
        "print(b) \n",
        "#cost vs iteration graph plot\n",
        "#for i in range(num):\n",
        "#  plt.plot(i,j[i])\n",
        "plt.plot(np.arange(num),j,c='red')\n",
        "plt.show()"
      ],
      "metadata": {
        "id": "VQA1YMMeIFaX",
        "colab": {
          "base_uri": "https://localhost:8080/",
          "height": 725
        },
        "outputId": "7ade975d-75a5-4b1a-8da9-c00a872a70d6"
      },
      "execution_count": 65,
      "outputs": [
        {
          "output_type": "stream",
          "name": "stdout",
          "text": [
            "iteration:  0\n",
            "cost : 24952.35681741128\n",
            "iteration:  50\n",
            "cost : 4770.271035872182\n",
            "iteration:  100\n",
            "cost : 4769.768716934599\n",
            "iteration:  150\n",
            "cost : 4769.768702438647\n",
            "iteration:  200\n",
            "cost : 4769.768702438213\n",
            "iteration:  250\n",
            "cost : 4769.768702438213\n",
            "[72.99699525 66.2490529  97.44251859  1.71779334 17.36335083 24.81613091\n",
            " 71.23331344 30.9955866  20.35046335 93.74922464 39.36887221 37.25519822\n",
            "  2.8278407  40.70115185 40.70115177 46.08723061 21.51569206 33.84608326\n",
            " 33.68446216 39.24757583]\n",
            "-0.3656507348417397\n"
          ]
        },
        {
          "output_type": "display_data",
          "data": {
            "text/plain": [
              "<Figure size 640x480 with 1 Axes>"
            ],
            "image/png": "[encoded data removed]"
          },
          "metadata": {}
        }
      ]
    },
    {
      "cell_type": "code",
      "source": [
        "X_t=(X_t-mu)/sigma\n",
        "\n",
        "y1=(np.matmul(X_t,w))+b\n",
        "mean=np.sum(y_t)/5000\n",
        "e1=np.sum(np.square(y1-y_t))\n",
        "e2=np.sum(np.square(y_t-mean))\n",
        "acc=1-(e1/e2)\n",
        "print(acc)"
      ],
      "metadata": {
        "colab": {
          "base_uri": "https://localhost:8080/"
        },
        "id": "5fl90EAbi77v",
        "outputId": "1b242ece-5059-4566-86a0-47277655995f"
      },
      "execution_count": 66,
      "outputs": [
        {
          "output_type": "stream",
          "name": "stdout",
          "text": [
            "0.8447366356651903\n"
          ]
        }
      ]
    }
  ]
}