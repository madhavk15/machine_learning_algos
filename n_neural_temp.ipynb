{
  "cells": [
    {
      "cell_type": "code",
      "execution_count": null,
      "metadata": {
        "id": "0hu-T2ECoe0P"
      },
      "outputs": [],
      "source": [
        "import pandas as pd\n",
        "import numpy as np\n",
        "import matplotlib.pyplot as plt\n",
        "import random"
      ]
    },
    {
      "cell_type": "code",
      "execution_count": null,
      "metadata": {
        "id": "UgCQZugoon5B"
      },
      "outputs": [],
      "source": [
        "data=pd.read_csv('/content/drive/MyDrive/Training dataset/classification_train.csv')\n",
        "X=((data.iloc[0:24000,1:785].values).T)/255\n",
        "Y=data.iloc[:,0].values\n",
        "X_t=((data.iloc[24000:30000,1:785].values).T)/255\n",
        "Y2=data.iloc[0:24000,0].values\n",
        "# one hot encoding\n",
        "\n",
        "Y1=np.zeros((30000,10))\n",
        "for j in range(10):\n",
        "  for i in range(30000):\n",
        "    if (Y[i]==j):\n",
        "      Y1[i,j]=1\n",
        "#now, Y1 is the target values for n neural network\n",
        "\n",
        "#splitting the target values\n",
        "y=(Y1[0:24000,:]).T\n",
        "y_t=(Y1[24000:30000,:]).T\n",
        "\n",
        "label=(data.iloc[24000:30000,0].values).reshape(6000,1)"
      ]
    },
    {
      "cell_type": "code",
      "execution_count": null,
      "metadata": {
        "id": "XukgTjEFrWaL"
      },
      "outputs": [],
      "source": [
        "def parameters_initialization(dimensions):    \n",
        "  parameters={}\n",
        "  N=len(dimensions)   #N is the number of layers\n",
        "  for i in range(1, N):\n",
        "        parameters['W' + str(i)] = np.random.randn(dimensions[i], dimensions[i-1])*0.01\n",
        "        parameters['b' + str(i)] = np.zeros((dimensions[i], 1))\n",
        "\n",
        "  return parameters"
      ]
    },
    {
      "cell_type": "code",
      "execution_count": null,
      "metadata": {
        "id": "SJ8hohxnr_j0"
      },
      "outputs": [],
      "source": [
        "def softmax(z):\n",
        "    expZ = np.exp(z)\n",
        "    return expZ/(np.sum(expZ,axis=0))\n",
        "def relu(Z):\n",
        "    A = np.maximum(0,Z)\n",
        "    return A\n",
        "def tanh(x):\n",
        "    return np.tanh(x)\n",
        "def forward_prop(X, parameters, activation):\n",
        "  forward_func = {}\n",
        "  N = len(parameters) // 2   \n",
        "\n",
        "  forward_func['A0']=X\n",
        "\n",
        "  for i in range(1,N):\n",
        "    forward_func['Z'+str(i)] = np.matmul(parameters['W'+str(i)],forward_func['A'+str(i-1)]) + parameters['b'+str(i)]\n",
        "\n",
        "    if activation == 'tanh':\n",
        "        forward_func['A' + str(i)] = tanh(forward_func['Z' + str(i)])\n",
        "    else:\n",
        "        forward_func['A' + str(i)] = relu(forward_func['Z' + str(i)])\n",
        "\n",
        "  forward_func['Z'+str(N)] = np.matmul(parameters['W'+str(N)],forward_func['A'+str(N-1)]) + parameters['b'+str(N)]\n",
        "  forward_func['A'+str(N)] = softmax(forward_func['Z'+str(N)])\n",
        "\n",
        "  return forward_func['A' + str(N)], forward_func"
      ]
    },
    {
      "cell_type": "code",
      "execution_count": null,
      "metadata": {
        "id": "ubKcpPHNsIAC"
      },
      "outputs": [],
      "source": [
        "def cost(AN,Y):\n",
        "  m=y.shape[1]\n",
        "  cost = -(1/m)* np.sum(Y * np.log(AN))\n",
        "  cost=np.squeeze(cost)\n",
        "  return cost"
      ]
    },
    {
      "cell_type": "code",
      "execution_count": null,
      "metadata": {
        "id": "_4KGxzMrsOak"
      },
      "outputs": [],
      "source": [
        "def d_relu(x):\n",
        "    return np.array(x > 0, dtype = 'float')\n",
        "def d_tanh(x):\n",
        "    return (1 - np.power(np.tanh(x), 2))\n",
        "\n",
        "def back_propagation(AN,y,parameters,forward_func,activation):\n",
        "  gradient={}\n",
        "  N = len(parameters) // 2                  \n",
        "  m = AN.shape[1]\n",
        "\n",
        "  gradient[\"dZ\" + str(N)] = AN - y\n",
        "  gradient[\"dW\" + str(N)] =  (1/m)*np.matmul(gradient[\"dZ\" + str(N)],forward_func['A' + str(N-1)].T)\n",
        "  gradient[\"db\" + str(N)] =  (1/m)*np.sum(gradient[\"dZ\" + str(N)], axis = 1, keepdims = True)\n",
        "    \n",
        "  for i in reversed(range(1, N)):\n",
        "      if activation == 'tanh':\n",
        "            gradient[\"dZ\" + str(i)] = np.matmul(parameters['W' + str(i+1)].T,gradient[\"dZ\" + str(i+1)])*d_tanh(forward_func['A' + str(i)])\n",
        "      else:\n",
        "            gradient[\"dZ\" + str(i)] = np.matmul(parameters['W' + str(i+1)].T,gradient[\"dZ\" + str(i+1)])*d_relu(forward_func['A' + str(i)])\n",
        "            \n",
        "      gradient[\"dW\" + str(i)] =  (1/m)*np.matmul(gradient[\"dZ\" + str(i)],forward_func['A' + str(i-1)].T)\n",
        "      gradient[\"db\" + str(i)] =  (1/m)*np.sum(gradient[\"dZ\" + str(i)], axis = 1, keepdims = True)\n",
        "\n",
        "      \n",
        "      parameters[\"W\" + str(i+1)] = parameters[\"W\" + str(i+1)] - alpha * gradient[\"dW\" + str(i+1)]\n",
        "      parameters[\"b\" + str(i+1)] = parameters[\"b\" + str(i+1)] - alpha * gradient[\"db\" + str(i+1)]\n",
        "\n",
        "  return parameters"
      ]
    },
    {
      "cell_type": "code",
      "execution_count": null,
      "metadata": {
        "id": "xQowZJvXsbVG"
      },
      "outputs": [],
      "source": [
        "cost_store = []  \n",
        "def model(X, Y, dimensions, alpha, activation , num):\n",
        "    np.random.seed(1)\n",
        "    parameters = parameters_initialization(dimensions)\n",
        "\n",
        "    for i in range(0, num):\n",
        "        AN, forward_func = forward_prop(X, parameters, activation)\n",
        "        cost_cal = cost(AN, Y)\n",
        "        cost_store.append(cost_cal)\n",
        "        parameters = back_propagation(AN, Y, parameters, forward_func, activation)\n",
        "        \n",
        "        if (i % 25 == 0):\n",
        "          print(\"iteration: \",i,\"   cost: \",cost_cal)\n",
        "        \n",
        "    return parameters"
      ]
    },
    {
      "cell_type": "code",
      "execution_count": null,
      "metadata": {
        "colab": {
          "background_save": true,
          "base_uri": "https://localhost:8080/"
        },
        "id": "Mx0EIOLTsfYQ",
        "outputId": "7efb2918-72c4-488e-8f32-079cfc949122"
      },
      "outputs": [
        {
          "name": "stdout",
          "output_type": "stream",
          "text": [
            "iteration:  0    cost:  2.302562238279054\n",
            "iteration:  25    cost:  2.3021794117758123\n",
            "iteration:  50    cost:  2.3016326883842324\n",
            "iteration:  75    cost:  2.3005702858166712\n",
            "iteration:  100    cost:  2.297796216175509\n",
            "iteration:  125    cost:  2.286790454996284\n",
            "iteration:  150    cost:  2.2061868400666578\n",
            "iteration:  175    cost:  1.8222114220743377\n",
            "iteration:  200    cost:  1.6701207751397804\n",
            "iteration:  225    cost:  1.5012144877475726\n",
            "iteration:  250    cost:  1.3156215783524854\n",
            "iteration:  275    cost:  1.1932128143080711\n",
            "iteration:  300    cost:  1.1111265905166423\n",
            "iteration:  325    cost:  1.0534397743595416\n",
            "iteration:  350    cost:  1.0102979391334828\n",
            "iteration:  375    cost:  0.9761955062176289\n",
            "iteration:  400    cost:  0.9484442043094339\n",
            "iteration:  425    cost:  0.9254606770282923\n",
            "iteration:  450    cost:  0.9059659403773368\n",
            "iteration:  475    cost:  0.8888214438572208\n",
            "iteration:  500    cost:  0.873033101941333\n"
          ]
        }
      ],
      "source": [
        "iterations=1001\n",
        "alpha=0.2\n",
        "activation='tanh'\n",
        "dimensions = [X.shape[0],784,196,49,y.shape[0]] \n",
        "parameters = model(X, y, dimensions, alpha, activation , iterations)"
      ]
    },
    {
      "cell_type": "code",
      "execution_count": null,
      "metadata": {
        "colab": {
          "background_save": true
        },
        "id": "kvtFcfdK2P0p",
        "outputId": "5643edfc-69b7-4a24-dc45-a673faa0bb33"
      },
      "outputs": [
        {
          "data": {
            "image/png": "[encoded data removed]",
            "text/plain": [
              "<Figure size 640x480 with 1 Axes>"
            ]
          },
          "metadata": {},
          "output_type": "display_data"
        }
      ],
      "source": [
        "t = np.arange(0, iterations)\n",
        "plt.plot(t,cost_store)\n",
        "plt.show()"
      ]
    },
    {
      "cell_type": "code",
      "execution_count": null,
      "metadata": {
        "colab": {
          "background_save": true
        },
        "id": "0ilbXCZaW0j9",
        "outputId": "c50e48d9-757a-4eb8-c6e0-c609990b3099"
      },
      "outputs": [
        {
          "name": "stdout",
          "output_type": "stream",
          "text": [
            "66.217\n"
          ]
        }
      ],
      "source": [
        "forward_func_t = {}\n",
        "N = len(parameters) // 2   \n",
        "\n",
        "forward_func_t['A0']=X_t\n",
        "\n",
        "for i in range(1,N):\n",
        "    forward_func_t['Z'+str(i)] = np.matmul(parameters['W'+str(i)],forward_func_t['A'+str(i-1)]) + parameters['b'+str(i)]\n",
        "\n",
        "    if activation == 'tanh':\n",
        "        forward_func_t['A' + str(i)] = tanh(forward_func_t['Z' + str(i)])\n",
        "    else:\n",
        "        forward_func_t['A' + str(i)] = relu(forward_func_t['Z' + str(i)])\n",
        "\n",
        "forward_func_t['Z'+str(N)] = np.matmul(parameters['W'+str(N)],forward_func_t['A'+str(N-1)]) + parameters['b'+str(N)]\n",
        "forward_func_t['A'+str(N)] = softmax(forward_func_t['Z'+str(N)])\n",
        "\n",
        "acc=0\n",
        "a=np.random.rand(6000)\n",
        "for i in range(6000):\n",
        "  a[i]=np.argmax((forward_func_t['A'+str(N)])[:,i])\n",
        "a=a.reshape(6000,1)\n",
        "for i in range(6000):\n",
        "  if(label[i]==a[i]):\n",
        "    acc+=1\n",
        "print(round((acc/60),3))"
      ]
    }
  ],
  "metadata": {
    "colab": {
      "provenance": []
    },
    "kernelspec": {
      "display_name": "Python 3",
      "name": "python3"
    },
    "language_info": {
      "name": "python"
    }
  },
  "nbformat": 4,
  "nbformat_minor": 0
}