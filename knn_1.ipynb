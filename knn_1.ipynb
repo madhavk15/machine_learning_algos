{
  "nbformat": 4,
  "nbformat_minor": 0,
  "metadata": {
    "colab": {
      "provenance": []
    },
    "kernelspec": {
      "name": "python3",
      "display_name": "Python 3"
    },
    "language_info": {
      "name": "python"
    }
  },
  "cells": [
    {
      "cell_type": "code",
      "execution_count": null,
      "metadata": {
        "id": "e16LJefDROed"
      },
      "outputs": [],
      "source": [
        "import numpy as np\n",
        "import pandas as pd\n",
        "import matplotlib.pyplot as plt"
      ]
    },
    {
      "cell_type": "code",
      "source": [
        "data=pd.read_csv('/content/drive/MyDrive/Training dataset/classification_train.csv')\n",
        "X=data.iloc[0:29000,1:785].values\n",
        "y=data.iloc[0:29000,0].values\n",
        "X_t=data.iloc[29000:30000,1:785].values\n",
        "y_t=data.iloc[29000:30000,0].values"
      ],
      "metadata": {
        "id": "4Ml10OPmRXJM"
      },
      "execution_count": null,
      "outputs": []
    },
    {
      "cell_type": "code",
      "source": [
        "def dis(X,X_t):\n",
        "  w=np.sqrt(np.sum((X-X_t)**2,axis=1))\n",
        "  return w"
      ],
      "metadata": {
        "id": "MDzUcOwhURbt"
      },
      "execution_count": null,
      "outputs": []
    },
    {
      "cell_type": "code",
      "source": [
        "def accuracy_k(X,X_t,k,Y):\n",
        "  dist=dis(X,X_t)\n",
        "  m,n=np.shape(X)\n",
        "  count=0\n",
        "  d=np.sort(dist)   #sorts the distance array in ascending order\n",
        "  for i in range(k):\n",
        "    ind=np.where(dist==d[i])[0][0]\n",
        "    if(y[ind]==Y):\n",
        "      count+=1\n",
        "  ac=(count/m)*100"
      ],
      "metadata": {
        "id": "DOYYk2zTU47X"
      },
      "execution_count": null,
      "outputs": []
    },
    {
      "cell_type": "code",
      "source": [
        "def val(X_t,y_t,k):\n",
        "  a=np.zeros(1000)\n",
        "  count=0\n",
        "  dist=dis(X,X_t)\n",
        "  lab = [0]*k\n",
        "  for j in range(k):\n",
        "    t=0\n",
        "    t=dist.argmin()\n",
        "    lab[j]=y[t]\n",
        "    np.delete(dist,t)\n",
        "\n",
        "  a=np.bincount(lab).argmax()\n",
        "  return(a)"
      ],
      "metadata": {
        "id": "Rtxxu7ZVdcWa"
      },
      "execution_count": null,
      "outputs": []
    },
    {
      "cell_type": "code",
      "source": [
        "t=[0]*1000\n",
        "count=0\n",
        "for i in range(1000):\n",
        "  t[i]=val(X_t[i],y_t[i],173)\n",
        "  if(t[i]==y_t[i]):\n",
        "    count+=1\n",
        "acc=count/10\n",
        "print(acc)"
      ],
      "metadata": {
        "colab": {
          "base_uri": "https://localhost:8080/"
        },
        "id": "Xcb5qLJ-h9ni",
        "outputId": "9fe71f1f-a3b6-4e2d-b45a-70b2a034aea7"
      },
      "execution_count": null,
      "outputs": [
        {
          "output_type": "stream",
          "name": "stdout",
          "text": [
            "84.8\n"
          ]
        }
      ]
    }
  ]
}